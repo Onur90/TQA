{
 "cells": [
  {
   "cell_type": "code",
   "execution_count": 1,
   "metadata": {
    "colab": {
     "base_uri": "https://localhost:8080/",
     "height": 1000
    },
    "colab_type": "code",
    "id": "xpq7Ll1UQy0p",
    "outputId": "349b821b-2352-4ae0-8225-25480e0e7447"
   },
   "outputs": [
    {
     "ename": "SyntaxError",
     "evalue": "invalid syntax (<ipython-input-1-db6d94fcd25a>, line 2)",
     "output_type": "error",
     "traceback": [
      "\u001b[0;36m  File \u001b[0;32m\"<ipython-input-1-db6d94fcd25a>\"\u001b[0;36m, line \u001b[0;32m2\u001b[0m\n\u001b[0;31m    import sys print(sys.executable)\u001b[0m\n\u001b[0m                   ^\u001b[0m\n\u001b[0;31mSyntaxError\u001b[0m\u001b[0;31m:\u001b[0m invalid syntax\n"
     ]
    }
   ],
   "source": [
    "import os\n",
    "os.environ['SWAG_DIR'] = \"./data\"\n",
    "!pip3 install transformers\n",
    "!echo $SWAG_DIR\n",
    "!python ./transformers/examples/run_multiple_choice.py \\\n",
    "--model_type bert \\\n",
    "--task_name swag \\\n",
    "--model_name_or_path bert-large-uncased \\\n",
    "--do_train \\\n",
    "--do_eval \\\n",
    "--do_lower_case \\\n",
    "--data_dir $SWAG_DIR \\\n",
    "--learning_rate 5e-5 \\\n",
    "--num_train_epochs 3 \\\n",
    "--max_seq_length 80 \\\n",
    "--output_dir models_bert/swag_base \\\n",
    "--per_gpu_eval_batch_size=16 \\\n",
    "--per_gpu_train_batch_size=16 \\\n",
    "--gradient_accumulation_steps 2 \\\n",
    "--overwrite_output\n"
   ]
  },
  {
   "cell_type": "code",
   "execution_count": null,
   "metadata": {},
   "outputs": [],
   "source": []
  }
 ],
 "metadata": {
  "accelerator": "GPU",
  "colab": {
   "collapsed_sections": [],
   "name": "Untitled8.ipynb",
   "provenance": [],
   "toc_visible": true
  },
  "kernelspec": {
   "display_name": "Python 3",
   "language": "python",
   "name": "python3"
  },
  "language_info": {
   "codemirror_mode": {
    "name": "ipython",
    "version": 3
   },
   "file_extension": ".py",
   "mimetype": "text/x-python",
   "name": "python",
   "nbconvert_exporter": "python",
   "pygments_lexer": "ipython3",
   "version": "3.7.7"
  }
 },
 "nbformat": 4,
 "nbformat_minor": 1
}
